{
 "cells": [
  {
   "cell_type": "code",
   "execution_count": 1,
   "id": "3766f05c",
   "metadata": {},
   "outputs": [],
   "source": [
    "import numpy as np\n",
    "import h5py\n",
    "import matplotlib.pyplot as plt\n",
    "import warnings\n",
    "from decimal import Decimal"
   ]
  },
  {
   "cell_type": "code",
   "execution_count": 2,
   "id": "79321391",
   "metadata": {},
   "outputs": [],
   "source": [
    "%matplotlib inline\n",
    "plt.rcParams['figure.figsize'] = (5.0, 4.0) # set default size of plots\n",
    "plt.rcParams['image.interpolation'] = 'nearest'\n",
    "plt.rcParams['image.cmap'] = 'gray'\n",
    "\n",
    "%load_ext autoreload\n",
    "%autoreload 2"
   ]
  },
  {
   "cell_type": "code",
   "execution_count": 3,
   "id": "70416e22",
   "metadata": {},
   "outputs": [],
   "source": [
    "def load_dataset():\n",
    "    train_dataset = h5py.File('cats/train_catvnoncat.h5', \"r\")\n",
    "    train_set_x_orig = np.array(train_dataset[\"train_set_x\"][:]) # your train set features\n",
    "    train_set_y_orig = np.array(train_dataset[\"train_set_y\"][:]) # your train set labels\n",
    "\n",
    "    test_dataset = h5py.File('cats/test_catvnoncat.h5', \"r\")\n",
    "    test_set_x_orig = np.array(test_dataset[\"test_set_x\"][:]) # your test set features\n",
    "    test_set_y_orig = np.array(test_dataset[\"test_set_y\"][:]) # your test set labels\n",
    "\n",
    "    classes = np.array(test_dataset[\"list_classes\"][:]) # the list of classes\n",
    "    \n",
    "    train_set_y_orig = train_set_y_orig.reshape((1, train_set_y_orig.shape[0]))\n",
    "    test_set_y_orig = test_set_y_orig.reshape((1, test_set_y_orig.shape[0]))\n",
    "    \n",
    "    return train_set_x_orig, train_set_y_orig, test_set_x_orig, test_set_y_orig, classes"
   ]
  },
  {
   "cell_type": "code",
   "execution_count": 4,
   "id": "b6fcaacb",
   "metadata": {},
   "outputs": [],
   "source": [
    "# Loading the data (cat/non-cat)\n",
    "train_set_x_orig, train_set_y_orig, test_set_x_orig, test_set_y, classes = load_dataset()"
   ]
  },
  {
   "cell_type": "code",
   "execution_count": 5,
   "id": "65a027f9",
   "metadata": {},
   "outputs": [
    {
     "data": {
      "text/plain": [
       "(1, 209)"
      ]
     },
     "execution_count": 5,
     "metadata": {},
     "output_type": "execute_result"
    }
   ],
   "source": [
    "train_set_y_orig.shape"
   ]
  },
  {
   "cell_type": "code",
   "execution_count": 6,
   "id": "3a1c9e69",
   "metadata": {},
   "outputs": [
    {
     "name": "stdout",
     "output_type": "stream",
     "text": [
      "y = [0], it's a 'non-cat' picture.\n"
     ]
    },
    {
     "data": {
      "image/png": "[encoded data removed]",
      "text/plain": [
       "<Figure size 500x400 with 1 Axes>"
      ]
     },
     "metadata": {},
     "output_type": "display_data"
    }
   ],
   "source": [
    "# Example of a picture\n",
    "index = 10\n",
    "plt.imshow(train_set_x_orig[index])\n",
    "print (\"y = \" + str(train_set_y_orig[:, index]) + \", it's a '\" + classes[np.squeeze(train_set_y_orig[:, index])].decode(\"utf-8\") +  \"' picture.\")"
   ]
  },
  {
   "cell_type": "code",
   "execution_count": 7,
   "id": "ea667250",
   "metadata": {},
   "outputs": [],
   "source": [
    "X_train = train_set_x_orig.copy().reshape(train_set_x_orig.shape[0], -1).T/255\n",
    "Y_train = train_set_y_orig.copy()\n",
    "X_test = test_set_x_orig.copy().reshape(test_set_x_orig.shape[0], -1).T/255\n",
    "Y_test = test_set_y.copy()"
   ]
  },
  {
   "cell_type": "code",
   "execution_count": 8,
   "id": "503d5329",
   "metadata": {},
   "outputs": [],
   "source": [
    "def sigmoid(Z):\n",
    "    s = 1/(1 + np.exp(-Z))\n",
    "    s = np.minimum(s, 0.99999) \n",
    "    s = np.maximum(s, 0.00001)\n",
    "    return s"
   ]
  },
  {
   "cell_type": "code",
   "execution_count": 9,
   "id": "52fecda4",
   "metadata": {},
   "outputs": [],
   "source": [
    "def relu(Z):\n",
    "    A = np.maximum(0,Z)\n",
    "    return A"
   ]
  },
  {
   "cell_type": "code",
   "execution_count": 10,
   "id": "cd48bd27",
   "metadata": {},
   "outputs": [],
   "source": [
    "class Layer:\n",
    "    def __init__(self, node_num, activation = None) -> None:\n",
    "        self.node_num = node_num\n",
    "        self.activation = activation\n",
    "    def __str__(self) -> str:\n",
    "        return \"node num:\" + str(self.node_num)"
   ]
  },
  {
   "cell_type": "code",
   "execution_count": 11,
   "id": "46c2c694",
   "metadata": {},
   "outputs": [],
   "source": [
    "def initialize_parameters(layers_dimensions):\n",
    "    parameters = {}\n",
    "    for i in range(1, len(layers_dimensions)):\n",
    "        parameters[\"W\" + str(i)] = np.random.randn(layers_dimensions[i].node_num, layers_dimensions[i - 1].node_num) * np.sqrt(2/layers_dimensions[i-1].node_num) \n",
    "        parameters[\"b\" + str(i)] = np.zeros((layers_dimensions[i].node_num, 1)) \n",
    "    return parameters"
   ]
  },
  {
   "cell_type": "code",
   "execution_count": 12,
   "id": "06a9563a",
   "metadata": {},
   "outputs": [],
   "source": [
    "def cost_function(Y, A, layers_dimensions, params, lambd = None):\n",
    "    m = Y.shape[1]\n",
    "    cost = (1./m) * (-np.dot(Y,np.log(A).T) - np.dot(1-Y, np.log(1-A).T))\n",
    "    if lambd is not None:\n",
    "        weight_sum = 0\n",
    "        for i in range(1, len(layers_dimensions)):\n",
    "            W = params[\"W\" + str(i)]\n",
    "            weight_sum += np.sum(np.square(W))\n",
    "        cost = cost + 2 * lambd/m * weight_sum\n",
    "    return cost"
   ]
  },
  {
   "cell_type": "code",
   "execution_count": 39,
   "id": "f3ece4a1",
   "metadata": {},
   "outputs": [],
   "source": [
    "def forward_propagation(X, params, layers_dimensions, keep_prob = 1.0):\n",
    "    A_prev = X\n",
    "    dim_len = len(layers_dimensions)\n",
    "    caches = []\n",
    "    for i in range(1, dim_len):\n",
    "        W = params[\"W\" + (str(i))]\n",
    "        b = params[\"b\" + (str(i))]\n",
    "        #print(\"W shape:\" + str(W.shape))\n",
    "        #print(\"A_prev shape:\" + str(A_prev.shape))\n",
    "        Z = np.dot(W, A_prev) + b\n",
    "        activation = layers_dimensions[i].activation\n",
    "        if activation == \"relu\":\n",
    "            A = relu(Z)\n",
    "            dropout_matrix = np.random.rand(A.shape[0], A.shape[1])\n",
    "            dropout_matrix = (dropout_matrix < keep_prob).astype(int)\n",
    "            A = np.multiply(A, dropout_matrix) \n",
    "            A = A / keep_prob\n",
    "            D = dropout_matrix\n",
    "            caches.append((A_prev, W, b, Z, D))\n",
    "        elif activation == \"sigmoid\":\n",
    "            A = sigmoid(Z)\n",
    "            caches.append((A_prev, W, b, Z, None))\n",
    "        A_prev = A.copy()\n",
    "    return A_prev, caches"
   ]
  },
  {
   "cell_type": "code",
   "execution_count": 14,
   "id": "d5214a09",
   "metadata": {},
   "outputs": [],
   "source": [
    "def linear_backward(A_prev, W, dZ, m, lambd): \n",
    "    dW = 1/m * np.dot(dZ,  A_prev.T)\n",
    "        \n",
    "    if lambd is not None:\n",
    "        dW = dW + lambd/m * W\n",
    "    db = 1/m * np.sum(dZ, axis = 1, keepdims = True)\n",
    "    dA = np.dot(W.T, dZ)\n",
    "       \n",
    "    return (dA, dW, db)"
   ]
  },
  {
   "cell_type": "code",
   "execution_count": 15,
   "id": "1a971dfa",
   "metadata": {},
   "outputs": [],
   "source": [
    "def back_propagation(Y, AL, caches, layers_dimensions, lambd = None, keep_prob = 1.0):\n",
    "    gradients = {}\n",
    "    m = Y.shape[1]\n",
    "    l = len(layers_dimensions)\n",
    "    \n",
    "    dA = - (np.divide(Y, AL) - np.divide(1 - Y, 1 - AL))\n",
    "\n",
    "    for i in reversed(range(1, len(layers_dimensions))):\n",
    "        (A_prev, W, b, Z, D) = caches[i - 1]\n",
    "        \n",
    "        if i < len(layers_dimensions) - 1:\n",
    "            dA = np.multiply(dA, D) / keep_prob\n",
    "        \n",
    "        if layers_dimensions[i].activation == \"sigmoid\":\n",
    "            dZ = dA * sigmoid_derivative(Z)\n",
    "            (dA, dW, db) = linear_backward(A_prev, W, dZ, m, lambd)\n",
    "            gradients[\"dW\" + str(i)] = dW\n",
    "            gradients[\"db\" + str(i)] = db\n",
    "        elif layers_dimensions[i].activation == \"relu\":\n",
    "            dZ = dA * relu_derivative(Z)\n",
    "            (dA, dW, db) = linear_backward(A_prev, W, dZ, m, lambd) \n",
    "            gradients[\"dW\" + str(i)] = dW\n",
    "            gradients[\"db\" + str(i)] = db\n",
    "    \n",
    "    return gradients"
   ]
  },
  {
   "cell_type": "code",
   "execution_count": 16,
   "id": "ca928f18",
   "metadata": {},
   "outputs": [],
   "source": [
    "def sigmoid_derivative(Z):\n",
    "    s = 1/(1 + np.exp(-Z))\n",
    "    s = np.minimum(s, 0.99999) \n",
    "    s = np.maximum(s, 0.00001)\n",
    "    return s * (1 - s)"
   ]
  },
  {
   "cell_type": "code",
   "execution_count": 17,
   "id": "9913fbe7",
   "metadata": {},
   "outputs": [],
   "source": [
    "def relu_derivative(Z):\n",
    "    s = Z >= 0\n",
    "    return s.astype(int)"
   ]
  },
  {
   "cell_type": "code",
   "execution_count": 18,
   "id": "166c9d11",
   "metadata": {},
   "outputs": [],
   "source": [
    "def update_params(params, gradients, layers_dimensions, learning_rate):\n",
    "    updated_params = params.copy()\n",
    "    for i in range(1, len(layers_dimensions)):\n",
    "        updated_params[\"W\" + str(i)] = updated_params[\"W\" + str(i)] - learning_rate * gradients[\"dW\" + str(i)]\n",
    "        updated_params[\"b\" + str(i)] = updated_params[\"b\" + str(i)] - learning_rate * gradients[\"db\" + str(i)]\n",
    "    return updated_params"
   ]
  },
  {
   "cell_type": "code",
   "execution_count": 19,
   "id": "7b4821d8",
   "metadata": {},
   "outputs": [],
   "source": [
    "layers_dimensions = [Layer(X_train.shape[0]), Layer(20, \"relu\"), Layer(7, \"relu\"), Layer(5, \"relu\"), Layer(1, \"sigmoid\" )]"
   ]
  },
  {
   "cell_type": "code",
   "execution_count": 55,
   "id": "e5a7069a",
   "metadata": {},
   "outputs": [
    {
     "data": {
      "text/plain": [
       "(12288,)"
      ]
     },
     "execution_count": 55,
     "metadata": {},
     "output_type": "execute_result"
    }
   ],
   "source": [
    "X_train[:,1].shape"
   ]
  },
  {
   "cell_type": "code",
   "execution_count": 53,
   "id": "1b990f3c",
   "metadata": {},
   "outputs": [
    {
     "data": {
      "text/plain": [
       "(12288, 1)"
      ]
     },
     "execution_count": 53,
     "metadata": {},
     "output_type": "execute_result"
    }
   ],
   "source": [
    "np.expand_dims(X_train[:,1], axis = 1).shape"
   ]
  },
  {
   "cell_type": "code",
   "execution_count": 60,
   "id": "bbfd5aba",
   "metadata": {},
   "outputs": [],
   "source": [
    "def build_model_sgd(X, Y, layers_dimensions):\n",
    "    np.random.seed(3)\n",
    "    keep_prob = 0.9\n",
    "    lambd = None\n",
    "    learning_rate = 0.01\n",
    "    iterations = 100\n",
    "    layers = layers_dimensions.copy()\n",
    "    #layers[:0] = [Layer(X.shape[0])]\n",
    "    params = initialize_parameters(layers)\n",
    "    for i in range(0, iterations):\n",
    "        cost_sum = 0\n",
    "        for j in range(X.shape[1]):\n",
    "            X_j = np.expand_dims(X[:, j], axis = 1)\n",
    "            Y_j = np.expand_dims(Y[:, j], axis = 1)\n",
    "            AL, caches = forward_propagation(X_j, params, layers, keep_prob)\n",
    "            gradients = back_propagation(Y_j, AL, caches, layers, lambd = lambd, keep_prob = keep_prob)\n",
    "            params = update_params(params, gradients, layers, learning_rate)\n",
    "            cost_sum += cost_function(Y_j, AL, layers, params, lambd = lambd)\n",
    "        cost = cost_sum/X.shape[1]\n",
    "        if i % 10 == 0:\n",
    "            print(i, cost)\n",
    "    return params"
   ]
  },
  {
   "cell_type": "code",
   "execution_count": 20,
   "id": "6b795b86",
   "metadata": {},
   "outputs": [],
   "source": [
    "def build_model(X, Y, layers_dimensions):\n",
    "    np.random.seed(3)\n",
    "    keep_prob = 0.9\n",
    "    lambd = None\n",
    "    learning_rate = 0.01\n",
    "    iterations = 2500\n",
    "    layers = layers_dimensions.copy()\n",
    "    #layers[:0] = [Layer(X.shape[0])]\n",
    "    params = initialize_parameters(layers)\n",
    "    for i in range(0, iterations):\n",
    "        AL, caches = forward_propagation(X, params, layers, keep_prob)\n",
    "        gradients = back_propagation(Y, AL, caches, layers, lambd = lambd, keep_prob = keep_prob)\n",
    "        \n",
    "        params = update_params(params, gradients, layers, learning_rate)\n",
    "        cost = cost_function(Y, AL, layers, params, lambd = lambd)\n",
    "        if i % 100 == 0:\n",
    "            print(i, cost)\n",
    "    return params"
   ]
  },
  {
   "cell_type": "code",
   "execution_count": 61,
   "id": "6a0a3b8b",
   "metadata": {
    "scrolled": false
   },
   "outputs": [
    {
     "name": "stdout",
     "output_type": "stream",
     "text": [
      "0 [[0.67892966]]\n",
      "10 [[0.64615451]]\n",
      "20 [[0.61808431]]\n",
      "30 [[0.63574534]]\n",
      "40 [[0.6449822]]\n",
      "50 [[0.63510535]]\n",
      "60 [[0.61668813]]\n",
      "70 [[0.62444697]]\n",
      "80 [[0.63990703]]\n",
      "90 [[0.60821949]]\n"
     ]
    }
   ],
   "source": [
    "params = build_model_sgd(X_train, Y_train, layers_dimensions)"
   ]
  },
  {
   "cell_type": "code",
   "execution_count": 62,
   "id": "0e7e7438",
   "metadata": {},
   "outputs": [],
   "source": [
    "def predict(X, params, layers_dimensions):\n",
    "    layers = layers_dimensions.copy()\n",
    "    A_prev = X\n",
    "    for i in range(1, len(layers)):\n",
    "        W = params[\"W\" + str(i)]\n",
    "        b = params[\"b\" + str(i)]\n",
    "        Z = np.dot(W, A_prev) + b\n",
    "        if layers[i].activation == \"relu\":\n",
    "            A = relu(Z)\n",
    "        elif layers[i].activation == \"sigmoid\":\n",
    "            A = sigmoid(Z)\n",
    "        probs = A > 0.5\n",
    "        A_prev = A\n",
    "    return probs.astype(int)"
   ]
  },
  {
   "cell_type": "code",
   "execution_count": 63,
   "id": "cde3cc23",
   "metadata": {},
   "outputs": [],
   "source": [
    "def calculate_accuracy(Y, predictions):\n",
    "    return np.sum((Y == predictions).astype(int))/Y.size"
   ]
  },
  {
   "cell_type": "code",
   "execution_count": 64,
   "id": "de162cc2",
   "metadata": {},
   "outputs": [],
   "source": [
    "test_predictions = predict(X_test, params, layers_dimensions)"
   ]
  },
  {
   "cell_type": "code",
   "execution_count": 65,
   "id": "1057838e",
   "metadata": {},
   "outputs": [
    {
     "data": {
      "text/plain": [
       "0.36"
      ]
     },
     "execution_count": 65,
     "metadata": {},
     "output_type": "execute_result"
    }
   ],
   "source": [
    "test_accuracy = calculate_accuracy(Y_test, test_predictions)\n",
    "test_accuracy"
   ]
  },
  {
   "cell_type": "code",
   "execution_count": 66,
   "id": "b88fc0e4",
   "metadata": {},
   "outputs": [
    {
     "name": "stdout",
     "output_type": "stream",
     "text": [
      "0.6889952153110048\n"
     ]
    }
   ],
   "source": [
    "train_predictions = predict(X_train, params, layers_dimensions)\n",
    "train_accuracy = calculate_accuracy(Y_train, train_predictions)\n",
    "print(train_accuracy)"
   ]
  },
  {
   "cell_type": "markdown",
   "id": "ed8d9d0c",
   "metadata": {},
   "source": [
    "- Simple: 0.74 (learning rate = 0.01)\n",
    "- Regularization norm2: 0.78 (lambd = 0.1)\n",
    "- Dropout: 0.84"
   ]
  },
  {
   "cell_type": "code",
   "execution_count": 27,
   "id": "45e083d7",
   "metadata": {},
   "outputs": [
    {
     "data": {
      "text/plain": [
       "<matplotlib.image.AxesImage at 0x1eb618d5690>"
      ]
     },
     "execution_count": 27,
     "metadata": {},
     "output_type": "execute_result"
    },
    {
     "data": {
      "image/png": "[encoded data removed]",
      "text/plain": [
       "<Figure size 500x400 with 1 Axes>"
      ]
     },
     "metadata": {},
     "output_type": "display_data"
    }
   ],
   "source": [
    "plt.imshow(test_set_x_orig[18])"
   ]
  },
  {
   "cell_type": "code",
   "execution_count": 28,
   "id": "62775caa",
   "metadata": {},
   "outputs": [
    {
     "ename": "NameError",
     "evalue": "name 'wrong_answers' is not defined",
     "output_type": "error",
     "traceback": [
      "\u001b[1;31m---------------------------------------------------------------------------\u001b[0m",
      "\u001b[1;31mNameError\u001b[0m                                 Traceback (most recent call last)",
      "Cell \u001b[1;32mIn[28], line 1\u001b[0m\n\u001b[1;32m----> 1\u001b[0m \u001b[38;5;28;01mfor\u001b[39;00m i \u001b[38;5;129;01min\u001b[39;00m \u001b[43mwrong_answers\u001b[49m:\n\u001b[0;32m      2\u001b[0m     plt\u001b[38;5;241m.\u001b[39mimshow(test_set_x[i])\n",
      "\u001b[1;31mNameError\u001b[0m: name 'wrong_answers' is not defined"
     ]
    }
   ],
   "source": [
    "for i in wrong_answers:\n",
    "    plt.imshow(test_set_x[i])"
   ]
  },
  {
   "cell_type": "code",
   "execution_count": null,
   "id": "b097ad8c",
   "metadata": {},
   "outputs": [],
   "source": []
  }
 ],
 "metadata": {
  "kernelspec": {
   "display_name": "Python 3 (ipykernel)",
   "language": "python",
   "name": "python3"
  },
  "language_info": {
   "codemirror_mode": {
    "name": "ipython",
    "version": 3
   },
   "file_extension": ".py",
   "mimetype": "text/x-python",
   "name": "python",
   "nbconvert_exporter": "python",
   "pygments_lexer": "ipython3",
   "version": "3.11.5"
  }
 },
 "nbformat": 4,
 "nbformat_minor": 5
}
